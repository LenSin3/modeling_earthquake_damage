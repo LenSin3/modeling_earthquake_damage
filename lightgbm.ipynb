{
 "cells": [
  {
   "cell_type": "code",
   "execution_count": 1,
   "id": "9c625381",
   "metadata": {},
   "outputs": [],
   "source": [
    "import pandas as pd\n",
    "from pandas.core.frame import DataFrame\n",
    "import numpy as np\n",
    "import matplotlib.pyplot as plt\n",
    "import seaborn as sns\n",
    "import re\n",
    "import os\n",
    "import utils\n",
    "import funcs\n",
    "import eda_plots\n",
    "import mlfuncs\n",
    "import dlfuncs\n",
    "import lightgbm_funcs"
   ]
  },
  {
   "cell_type": "code",
   "execution_count": 2,
   "id": "6d4ebefb",
   "metadata": {},
   "outputs": [],
   "source": [
    "pd.set_option('display.max_columns', 500)"
   ]
  },
  {
   "cell_type": "code",
   "execution_count": 3,
   "id": "fb1dbb19",
   "metadata": {},
   "outputs": [
    {
     "name": "stdout",
     "output_type": "stream",
     "text": [
      "There are 40 columns and 260601 records in the dataframe.\n",
      "Extracting count and percentages of nulls and non nulls\n"
     ]
    }
   ],
   "source": [
    "# import data\n",
    "filepath = 'data/merged_transformed.csv'\n",
    "df, df_nulls = funcs.read_and_qa(filepath)"
   ]
  },
  {
   "cell_type": "code",
   "execution_count": 4,
   "id": "f2394948",
   "metadata": {},
   "outputs": [],
   "source": [
    "# initial columns to drop\n",
    "initial_to_drop = 'building_id'\n",
    "target_var = 'damage_grade'\n",
    "num_cols = ['count_floors_pre_eq', 'age', 'area_percentage', 'height_percentage']\n",
    "feats_to_exclude = ['has_superstructure_adobe_mud',\n",
    "       'has_superstructure_mud_mortar_stone', 'has_superstructure_stone_flag',\n",
    "       'has_superstructure_cement_mortar_stone',\n",
    "       'has_superstructure_mud_mortar_brick',\n",
    "       'has_superstructure_cement_mortar_brick', 'has_superstructure_timber',\n",
    "       'has_superstructure_bamboo', 'has_superstructure_rc_non_engineered',\n",
    "       'has_superstructure_rc_engineered', 'has_superstructure_other',\n",
    "       'has_secondary_use',\n",
    "       'has_secondary_use_agriculture', 'has_secondary_use_hotel',\n",
    "       'has_secondary_use_rental', 'has_secondary_use_institution',\n",
    "       'has_secondary_use_school', 'has_secondary_use_industry',\n",
    "       'has_secondary_use_health_post', 'has_secondary_use_gov_office',\n",
    "       'has_secondary_use_use_police', 'has_secondary_use_other']"
   ]
  },
  {
   "cell_type": "code",
   "execution_count": 5,
   "id": "6d0b8bcd",
   "metadata": {},
   "outputs": [],
   "source": [
    "# pre-preprocess\n",
    "df_pre_preprocess = df.drop(initial_to_drop, axis = 1)"
   ]
  },
  {
   "cell_type": "code",
   "execution_count": 6,
   "id": "a224ca14",
   "metadata": {},
   "outputs": [],
   "source": [
    "SEED = 42"
   ]
  },
  {
   "cell_type": "code",
   "execution_count": 7,
   "id": "b89e6cec",
   "metadata": {},
   "outputs": [
    {
     "name": "stdout",
     "output_type": "stream",
     "text": [
      "Creating pipeline for LightGBM Classifier.\n",
      "Fitting training data to pipeline for LightGBM Classifier.\n",
      "Predicting test values for LightGBM Classifier.\n",
      "Calculating accuracy score for LightGBM Classifier.\n",
      "Accuracy Score for LightGBM Classifier: 0.7372718761032064\n"
     ]
    }
   ],
   "source": [
    "clf_f1_scr, pipe = lightgbm_funcs.lightgbm_model(df, target_var, feats_to_exclude, text_feats=None, stratify = True, test_size = 0.25)"
   ]
  },
  {
   "cell_type": "code",
   "execution_count": null,
   "id": "496f26bc",
   "metadata": {},
   "outputs": [],
   "source": []
  }
 ],
 "metadata": {
  "kernelspec": {
   "display_name": "Python [conda env:PythonAdv] *",
   "language": "python",
   "name": "conda-env-PythonAdv-py"
  },
  "language_info": {
   "codemirror_mode": {
    "name": "ipython",
    "version": 3
   },
   "file_extension": ".py",
   "mimetype": "text/x-python",
   "name": "python",
   "nbconvert_exporter": "python",
   "pygments_lexer": "ipython3",
   "version": "3.8.12"
  }
 },
 "nbformat": 4,
 "nbformat_minor": 5
}
